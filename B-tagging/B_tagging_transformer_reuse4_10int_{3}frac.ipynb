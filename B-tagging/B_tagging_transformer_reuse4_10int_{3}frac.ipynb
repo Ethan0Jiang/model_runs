{
 "cells": [
  {
   "cell_type": "code",
   "execution_count": null,
   "metadata": {
    "id": "Nt5Cqys4-Q3O"
   },
   "outputs": [],
   "source": [
    "import numpy as np\n",
    "import matplotlib.pyplot as plt\n",
    "import h5py\n",
    "from tensorflow.keras.utils import to_categorical\n",
    "from sklearn.preprocessing import LabelEncoder\n",
    "from tensorflow import keras\n",
    "from tensorflow.keras import layers"
   ]
  },
  {
   "cell_type": "code",
   "execution_count": null,
   "metadata": {},
   "outputs": [],
   "source": [
    "from tensorflow.keras.models import load_model\n",
    "model = load_model('../model_saved/b_tag_model.h5')"
   ]
  },
  {
   "cell_type": "code",
   "execution_count": null,
   "metadata": {},
   "outputs": [],
   "source": [
    "import hls4ml\n",
    "import os\n",
    "os.environ['PATH'] = '/opt/Xilinx/Vivado/2020.1/bin:' + os.environ['PATH']"
   ]
  },
  {
   "cell_type": "code",
   "execution_count": null,
   "metadata": {
    "scrolled": true
   },
   "outputs": [
    {
     "name": "stdout",
     "output_type": "stream",
     "text": [
      "INFO: [XFORM 203-602] Inlining function 'fp_struct<double>::mantissa' into 'generic_cast_IEEE754<int, (ap_q_mode)6, double>' (/wrk/2020.1/continuous/2020_05_27_2902540/src/products/hls/hls_lib/hlsmath/include/FloatingPoint/hls_case_IEEE754.h:15) automatically.\n",
      "INFO: [XFORM 203-602] Inlining function 'fp_struct<double>::expv' into 'generic_cast_IEEE754<int, (ap_q_mode)6, double>' (/wrk/2020.1/continuous/2020_05_27_2902540/src/products/hls/hls_lib/hlsmath/include/FloatingPoint/hls_case_IEEE754.h:18) automatically.\n",
      "INFO: [XFORM 203-602] Inlining function 'fp_struct<double>::__signbit' into 'generic_cast_IEEE754<int, (ap_q_mode)6, double>' (/wrk/2020.1/continuous/2020_05_27_2902540/src/products/hls/hls_lib/hlsmath/include/FloatingPoint/hls_case_IEEE754.h:59) automatically.\n",
      "INFO: [XFORM 203-602] Inlining function 'generic_cast_IEEE754<int, (ap_q_mode)6, double>' into 'generic_cast_IEEE754<int, double>' (/wrk/2020.1/continuous/2020_05_27_2902540/src/products/hls/hls_lib/hlsmath/include/FloatingPoint/hls_case_IEEE754.h:117) automatically.\n",
      "INFO: [XFORM 203-602] Inlining function 'generic_cast_IEEE754<int, double>' into '__hls_fptosi_double_i32' (/wrk/2020.1/continuous/2020_05_27_2902540/src/products/hls/hls_lib/hlsmath/src/lib_floatconversion.cpp:55) automatically.\n",
      "INFO: [XFORM 203-602] Inlining function '__hls_fptosi_double_i32' into 'nnet::dense_latency<ap_fixed<13, 10, (ap_q_mode)5, (ap_o_mode)3, 0>, ap_fixed<13, 10, (ap_q_mode)5, (ap_o_mode)3, 0>, config2_1>' (firmware/nnet_utils/nnet_dense_latency.h:55) automatically.\n",
      "INFO: [XFORM 203-602] Inlining function 'nnet::cast<ap_fixed<13, 10, (ap_q_mode)5, (ap_o_mode)3, 0>, ap_fixed<13, 10, (ap_q_mode)5, (ap_o_mode)3, 0>, config2_1>' into 'nnet::dense_latency<ap_fixed<13, 10, (ap_q_mode)5, (ap_o_mode)3, 0>, ap_fixed<13, 10, (ap_q_mode)5, (ap_o_mode)3, 0>, config2_1>' (firmware/nnet_utils/nnet_dense_latency.h:83) automatically.\n",
      "INFO: [XFORM 203-602] Inlining function 'nnet::read_stream_array<ap_fixed<13, 10, (ap_q_mode)5, (ap_o_mode)3, 0>, 6>' into 'nnet::lin_projection<ap_fixed<13, 10, (ap_q_mode)5, (ap_o_mode)3, 0>, ap_fixed<13, 10, (ap_q_mode)5, (ap_o_mode)3, 0>, config2>647' (firmware/nnet_utils/nnet_multiheadattention.h:217) automatically.\n",
      "INFO: [XFORM 203-602] Inlining function 'nnet::read_stream_array<ap_fixed<13, 10, (ap_q_mode)5, (ap_o_mode)3, 0>, 6>' into 'nnet::lin_projection<ap_fixed<13, 10, (ap_q_mode)5, (ap_o_mode)3, 0>, ap_fixed<13, 10, (ap_q_mode)5, (ap_o_mode)3, 0>, config2>648' (firmware/nnet_utils/nnet_multiheadattention.h:217) automatically.\n",
      "INFO: [XFORM 203-602] Inlining function '__hls_fptosi_double_i32' into 'nnet::matrixmul_transpose<ap_fixed<13, 10, (ap_q_mode)5, (ap_o_mode)3, 0>, ap_fixed<13, 10, (ap_q_mode)5, (ap_o_mode)3, 0>, config2>649' (firmware/nnet_utils/nnet_multiheadattention.h:82) automatically.\n",
      "INFO: [XFORM 203-602] Inlining function '__hls_fptosi_double_i32' into 'nnet::matrixmul_transpose<ap_fixed<13, 10, (ap_q_mode)5, (ap_o_mode)3, 0>, ap_fixed<13, 10, (ap_q_mode)5, (ap_o_mode)3, 0>, config2>650' (firmware/nnet_utils/nnet_multiheadattention.h:82) automatically.\n",
      "INFO: [XFORM 203-602] Inlining function '__hls_fptosi_double_i32' into 'nnet::matrixmul<ap_fixed<13, 10, (ap_q_mode)5, (ap_o_mode)3, 0>, ap_fixed<13, 10, (ap_q_mode)5, (ap_o_mode)3, 0>, config2>651' (firmware/nnet_utils/nnet_multiheadattention.h:134) automatically.\n",
      "INFO: [XFORM 203-602] Inlining function '__hls_fptosi_double_i32' into 'nnet::matrixmul<ap_fixed<13, 10, (ap_q_mode)5, (ap_o_mode)3, 0>, ap_fixed<13, 10, (ap_q_mode)5, (ap_o_mode)3, 0>, config2>652' (firmware/nnet_utils/nnet_multiheadattention.h:134) automatically.\n",
      "INFO: [XFORM 203-602] Inlining function '__hls_fptosi_double_i32' into 'nnet::dense_latency<ap_fixed<13, 10, (ap_q_mode)5, (ap_o_mode)3, 0>, ap_fixed<13, 10, (ap_q_mode)5, (ap_o_mode)3, 0>, config2_2>' (firmware/nnet_utils/nnet_dense_latency.h:55) automatically.\n",
      "INFO: [XFORM 203-602] Inlining function 'nnet::cast<ap_fixed<13, 10, (ap_q_mode)5, (ap_o_mode)3, 0>, ap_fixed<13, 10, (ap_q_mode)5, (ap_o_mode)3, 0>, config2_2>' into 'nnet::dense_latency<ap_fixed<13, 10, (ap_q_mode)5, (ap_o_mode)3, 0>, ap_fixed<13, 10, (ap_q_mode)5, (ap_o_mode)3, 0>, config2_2>' (firmware/nnet_utils/nnet_dense_latency.h:83) automatically.\n",
      "INFO: [XFORM 203-602] Inlining function 'nnet::cast<ap_fixed<13, 10, (ap_q_mode)5, (ap_o_mode)3, 0>, ap_fixed<13, 10, (ap_q_mode)5, (ap_o_mode)3, 0>, config4>' into 'nnet::dense_resource<ap_fixed<13, 10, (ap_q_mode)5, (ap_o_mode)3, 0>, ap_fixed<13, 10, (ap_q_mode)5, (ap_o_mode)3, 0>, config4>675' (firmware/nnet_utils/nnet_dense_resource.h:100->firmware/nnet_utils/nnet_dense_resource.h:276) automatically.\n",
      "INFO: [XFORM 203-602] Inlining function 'nnet::cast<ap_fixed<13, 10, (ap_q_mode)5, (ap_o_mode)3, 0>, ap_fixed<13, 10, (ap_q_mode)5, (ap_o_mode)3, 0>, config6>' into 'nnet::dense_resource<ap_fixed<13, 10, (ap_q_mode)5, (ap_o_mode)3, 0>, ap_fixed<13, 10, (ap_q_mode)5, (ap_o_mode)3, 0>, config6>' (firmware/nnet_utils/nnet_dense_resource.h:100->firmware/nnet_utils/nnet_dense_resource.h:276) automatically.\n",
      "INFO: [XFORM 203-602] Inlining function '__hls_fptosi_double_i32' into 'nnet::dense_latency<ap_fixed<13, 10, (ap_q_mode)5, (ap_o_mode)3, 0>, ap_fixed<13, 10, (ap_q_mode)5, (ap_o_mode)3, 0>, config9_1>' (firmware/nnet_utils/nnet_dense_latency.h:55) automatically.\n",
      "INFO: [XFORM 203-602] Inlining function 'nnet::cast<ap_fixed<13, 10, (ap_q_mode)5, (ap_o_mode)3, 0>, ap_fixed<13, 10, (ap_q_mode)5, (ap_o_mode)3, 0>, config9_1>' into 'nnet::dense_latency<ap_fixed<13, 10, (ap_q_mode)5, (ap_o_mode)3, 0>, ap_fixed<13, 10, (ap_q_mode)5, (ap_o_mode)3, 0>, config9_1>' (firmware/nnet_utils/nnet_dense_latency.h:83) automatically.\n",
      "INFO: [XFORM 203-602] Inlining function 'nnet::read_stream_array<ap_fixed<13, 10, (ap_q_mode)5, (ap_o_mode)3, 0>, 6>' into 'nnet::lin_projection<ap_fixed<13, 10, (ap_q_mode)5, (ap_o_mode)3, 0>, ap_fixed<13, 10, (ap_q_mode)5, (ap_o_mode)3, 0>, config9>657' (firmware/nnet_utils/nnet_multiheadattention.h:217) automatically.\n",
      "INFO: [XFORM 203-602] Inlining function 'nnet::read_stream_array<ap_fixed<13, 10, (ap_q_mode)5, (ap_o_mode)3, 0>, 6>' into 'nnet::lin_projection<ap_fixed<13, 10, (ap_q_mode)5, (ap_o_mode)3, 0>, ap_fixed<13, 10, (ap_q_mode)5, (ap_o_mode)3, 0>, config9>658' (firmware/nnet_utils/nnet_multiheadattention.h:217) automatically.\n",
      "INFO: [XFORM 203-602] Inlining function '__hls_fptosi_double_i32' into 'nnet::matrixmul_transpose<ap_fixed<13, 10, (ap_q_mode)5, (ap_o_mode)3, 0>, ap_fixed<13, 10, (ap_q_mode)5, (ap_o_mode)3, 0>, config9>659' (firmware/nnet_utils/nnet_multiheadattention.h:82) automatically.\n",
      "INFO: [XFORM 203-602] Inlining function '__hls_fptosi_double_i32' into 'nnet::matrixmul_transpose<ap_fixed<13, 10, (ap_q_mode)5, (ap_o_mode)3, 0>, ap_fixed<13, 10, (ap_q_mode)5, (ap_o_mode)3, 0>, config9>660' (firmware/nnet_utils/nnet_multiheadattention.h:82) automatically.\n",
      "INFO: [XFORM 203-602] Inlining function '__hls_fptosi_double_i32' into 'nnet::matrixmul<ap_fixed<13, 10, (ap_q_mode)5, (ap_o_mode)3, 0>, ap_fixed<13, 10, (ap_q_mode)5, (ap_o_mode)3, 0>, config9>661' (firmware/nnet_utils/nnet_multiheadattention.h:134) automatically.\n",
      "INFO: [XFORM 203-602] Inlining function '__hls_fptosi_double_i32' into 'nnet::matrixmul<ap_fixed<13, 10, (ap_q_mode)5, (ap_o_mode)3, 0>, ap_fixed<13, 10, (ap_q_mode)5, (ap_o_mode)3, 0>, config9>662' (firmware/nnet_utils/nnet_multiheadattention.h:134) automatically.\n",
      "INFO: [XFORM 203-602] Inlining function '__hls_fptosi_double_i32' into 'nnet::dense_latency<ap_fixed<13, 10, (ap_q_mode)5, (ap_o_mode)3, 0>, ap_fixed<13, 10, (ap_q_mode)5, (ap_o_mode)3, 0>, config9_2>' (firmware/nnet_utils/nnet_dense_latency.h:55) automatically.\n",
      "INFO: [XFORM 203-602] Inlining function 'nnet::cast<ap_fixed<13, 10, (ap_q_mode)5, (ap_o_mode)3, 0>, ap_fixed<13, 10, (ap_q_mode)5, (ap_o_mode)3, 0>, config9_2>' into 'nnet::dense_latency<ap_fixed<13, 10, (ap_q_mode)5, (ap_o_mode)3, 0>, ap_fixed<13, 10, (ap_q_mode)5, (ap_o_mode)3, 0>, config9_2>' (firmware/nnet_utils/nnet_dense_latency.h:83) automatically.\n",
      "INFO: [XFORM 203-602] Inlining function 'nnet::cast<ap_fixed<13, 10, (ap_q_mode)5, (ap_o_mode)3, 0>, ap_fixed<13, 10, (ap_q_mode)5, (ap_o_mode)3, 0>, config11>' into 'nnet::dense_resource<ap_fixed<13, 10, (ap_q_mode)5, (ap_o_mode)3, 0>, ap_fixed<13, 10, (ap_q_mode)5, (ap_o_mode)3, 0>, config11>674' (firmware/nnet_utils/nnet_dense_resource.h:100->firmware/nnet_utils/nnet_dense_resource.h:276) automatically.\n",
      "INFO: [XFORM 203-602] Inlining function 'nnet::cast<ap_fixed<13, 10, (ap_q_mode)5, (ap_o_mode)3, 0>, ap_fixed<13, 10, (ap_q_mode)5, (ap_o_mode)3, 0>, config13>' into 'nnet::dense_resource<ap_fixed<13, 10, (ap_q_mode)5, (ap_o_mode)3, 0>, ap_fixed<13, 10, (ap_q_mode)5, (ap_o_mode)3, 0>, config13>' (firmware/nnet_utils/nnet_dense_resource.h:100->firmware/nnet_utils/nnet_dense_resource.h:276) automatically.\n"
     ]
    },
    {
     "name": "stdout",
     "output_type": "stream",
     "text": [
      "INFO: [XFORM 203-602] Inlining function '__hls_fptosi_double_i32' into 'nnet::dense_latency<ap_fixed<13, 10, (ap_q_mode)5, (ap_o_mode)3, 0>, ap_fixed<13, 10, (ap_q_mode)5, (ap_o_mode)3, 0>, config16_1>' (firmware/nnet_utils/nnet_dense_latency.h:55) automatically.\n",
      "INFO: [XFORM 203-602] Inlining function 'nnet::cast<ap_fixed<13, 10, (ap_q_mode)5, (ap_o_mode)3, 0>, ap_fixed<13, 10, (ap_q_mode)5, (ap_o_mode)3, 0>, config16_1>' into 'nnet::dense_latency<ap_fixed<13, 10, (ap_q_mode)5, (ap_o_mode)3, 0>, ap_fixed<13, 10, (ap_q_mode)5, (ap_o_mode)3, 0>, config16_1>' (firmware/nnet_utils/nnet_dense_latency.h:83) automatically.\n",
      "INFO: [XFORM 203-602] Inlining function 'nnet::read_stream_array<ap_fixed<13, 10, (ap_q_mode)5, (ap_o_mode)3, 0>, 6>' into 'nnet::lin_projection<ap_fixed<13, 10, (ap_q_mode)5, (ap_o_mode)3, 0>, ap_fixed<13, 10, (ap_q_mode)5, (ap_o_mode)3, 0>, config16>667' (firmware/nnet_utils/nnet_multiheadattention.h:217) automatically.\n",
      "INFO: [XFORM 203-602] Inlining function 'nnet::read_stream_array<ap_fixed<13, 10, (ap_q_mode)5, (ap_o_mode)3, 0>, 6>' into 'nnet::lin_projection<ap_fixed<13, 10, (ap_q_mode)5, (ap_o_mode)3, 0>, ap_fixed<13, 10, (ap_q_mode)5, (ap_o_mode)3, 0>, config16>668' (firmware/nnet_utils/nnet_multiheadattention.h:217) automatically.\n",
      "INFO: [XFORM 203-602] Inlining function '__hls_fptosi_double_i32' into 'nnet::matrixmul_transpose<ap_fixed<13, 10, (ap_q_mode)5, (ap_o_mode)3, 0>, ap_fixed<13, 10, (ap_q_mode)5, (ap_o_mode)3, 0>, config16>669' (firmware/nnet_utils/nnet_multiheadattention.h:82) automatically.\n",
      "INFO: [XFORM 203-602] Inlining function '__hls_fptosi_double_i32' into 'nnet::matrixmul_transpose<ap_fixed<13, 10, (ap_q_mode)5, (ap_o_mode)3, 0>, ap_fixed<13, 10, (ap_q_mode)5, (ap_o_mode)3, 0>, config16>670' (firmware/nnet_utils/nnet_multiheadattention.h:82) automatically.\n",
      "INFO: [XFORM 203-602] Inlining function '__hls_fptosi_double_i32' into 'nnet::matrixmul<ap_fixed<13, 10, (ap_q_mode)5, (ap_o_mode)3, 0>, ap_fixed<13, 10, (ap_q_mode)5, (ap_o_mode)3, 0>, config16>671' (firmware/nnet_utils/nnet_multiheadattention.h:134) automatically.\n",
      "INFO: [XFORM 203-602] Inlining function '__hls_fptosi_double_i32' into 'nnet::matrixmul<ap_fixed<13, 10, (ap_q_mode)5, (ap_o_mode)3, 0>, ap_fixed<13, 10, (ap_q_mode)5, (ap_o_mode)3, 0>, config16>672' (firmware/nnet_utils/nnet_multiheadattention.h:134) automatically.\n",
      "INFO: [XFORM 203-602] Inlining function '__hls_fptosi_double_i32' into 'nnet::dense_latency<ap_fixed<13, 10, (ap_q_mode)5, (ap_o_mode)3, 0>, ap_fixed<13, 10, (ap_q_mode)5, (ap_o_mode)3, 0>, config16_2>' (firmware/nnet_utils/nnet_dense_latency.h:55) automatically.\n",
      "INFO: [XFORM 203-602] Inlining function 'nnet::cast<ap_fixed<13, 10, (ap_q_mode)5, (ap_o_mode)3, 0>, ap_fixed<13, 10, (ap_q_mode)5, (ap_o_mode)3, 0>, config16_2>' into 'nnet::dense_latency<ap_fixed<13, 10, (ap_q_mode)5, (ap_o_mode)3, 0>, ap_fixed<13, 10, (ap_q_mode)5, (ap_o_mode)3, 0>, config16_2>' (firmware/nnet_utils/nnet_dense_latency.h:83) automatically.\n",
      "INFO: [XFORM 203-602] Inlining function 'nnet::cast<ap_fixed<13, 10, (ap_q_mode)5, (ap_o_mode)3, 0>, ap_fixed<13, 10, (ap_q_mode)5, (ap_o_mode)3, 0>, config18>' into 'nnet::dense_resource<ap_fixed<13, 10, (ap_q_mode)5, (ap_o_mode)3, 0>, ap_fixed<13, 10, (ap_q_mode)5, (ap_o_mode)3, 0>, config18>673' (firmware/nnet_utils/nnet_dense_resource.h:100->firmware/nnet_utils/nnet_dense_resource.h:276) automatically.\n",
      "INFO: [XFORM 203-602] Inlining function 'nnet::cast<ap_fixed<13, 10, (ap_q_mode)5, (ap_o_mode)3, 0>, ap_fixed<13, 10, (ap_q_mode)5, (ap_o_mode)3, 0>, config20>' into 'nnet::dense_resource<ap_fixed<13, 10, (ap_q_mode)5, (ap_o_mode)3, 0>, ap_fixed<13, 10, (ap_q_mode)5, (ap_o_mode)3, 0>, config20>' (firmware/nnet_utils/nnet_dense_resource.h:100->firmware/nnet_utils/nnet_dense_resource.h:276) automatically.\n",
      "INFO: [XFORM 203-602] Inlining function 'nnet::cast<ap_fixed<13, 10, (ap_q_mode)5, (ap_o_mode)3, 0>, ap_fixed<13, 10, (ap_q_mode)5, (ap_o_mode)3, 0>, config24>' into 'nnet::dense_resource<ap_fixed<13, 10, (ap_q_mode)5, (ap_o_mode)3, 0>, ap_fixed<13, 10, (ap_q_mode)5, (ap_o_mode)3, 0>, config24>' (firmware/nnet_utils/nnet_dense_resource.h:100->firmware/nnet_utils/nnet_dense_resource.h:276) automatically.\n",
      "INFO: [XFORM 203-602] Inlining function 'nnet::cast<ap_fixed<13, 10, (ap_q_mode)5, (ap_o_mode)3, 0>, ap_fixed<13, 10, (ap_q_mode)5, (ap_o_mode)3, 0>, config26>' into 'nnet::dense_resource<ap_fixed<13, 10, (ap_q_mode)5, (ap_o_mode)3, 0>, ap_fixed<13, 10, (ap_q_mode)5, (ap_o_mode)3, 0>, config26>' (firmware/nnet_utils/nnet_dense_resource.h:100->firmware/nnet_utils/nnet_dense_resource.h:276) automatically.\n",
      "INFO: [XFORM 203-602] Inlining function 'nnet::cast<ap_fixed<13, 10, (ap_q_mode)5, (ap_o_mode)3, 0>, ap_fixed<13, 10, (ap_q_mode)5, (ap_o_mode)3, 0>, config28>' into 'nnet::dense_resource<ap_fixed<13, 10, (ap_q_mode)5, (ap_o_mode)3, 0>, ap_fixed<13, 10, (ap_q_mode)5, (ap_o_mode)3, 0>, config28>' (firmware/nnet_utils/nnet_dense_resource.h:100->firmware/nnet_utils/nnet_dense_resource.h:276) automatically.\n",
      "INFO: [XFORM 203-602] Inlining function 'nnet::cast<ap_fixed<13, 10, (ap_q_mode)5, (ap_o_mode)3, 0>, ap_fixed<13, 10, (ap_q_mode)5, (ap_o_mode)3, 0>, config30>' into 'nnet::dense_resource<ap_fixed<13, 10, (ap_q_mode)5, (ap_o_mode)3, 0>, ap_fixed<13, 10, (ap_q_mode)5, (ap_o_mode)3, 0>, config30>' (firmware/nnet_utils/nnet_dense_resource.h:100->firmware/nnet_utils/nnet_dense_resource.h:276) automatically.\n"
     ]
    }
   ],
   "source": [
    "%%capture\n",
    "int_bit = 10\n",
    "i = 3\n",
    "reuse = 4\n",
    "precision = 'ap_fixed<{},{}>'.format((int_bit+i), int_bit)\n",
    "fix_int_precision = 'ap_fixed<{},{}>'.format((16+i), 14)\n",
    "dirc = 'runs/B_tagging_run/r4_{}int_{}frac'.format(int_bit, i)\n",
    "#First, the baseline model\n",
    "hls_config = hls4ml.utils.config_from_keras_model(model, granularity='name')\n",
    "\n",
    "# Set the precision and reuse factor for the full model\n",
    "hls_config['Model']['Precision'] = precision\n",
    "hls_config['Model']['ReuseFactor'] = reuse\n",
    "hls_config['Model']['Strategy'] = 'Resource'\n",
    "\n",
    "for Layer in hls_config['LayerName'].keys():\n",
    "    hls_config['LayerName'][Layer]['Precision'] = precision\n",
    "    hls_config['LayerName'][Layer]['Strategy'] = 'Resource'\n",
    "    hls_config['LayerName'][Layer]['ReuseFactor'] = reuse\n",
    "    hls_config['LayerName'][Layer]['weight'] = precision\n",
    "    hls_config['LayerName'][Layer]['scale'] = precision\n",
    "    hls_config['LayerName'][Layer]['bias'] = precision\n",
    "    hls_config['LayerName'][Layer]['accum_t'] = fix_int_precision\n",
    "    if 'multi_head_attention' in Layer:\n",
    "        hls_config['LayerName'][Layer]['table_t'] = fix_int_precision\n",
    "        hls_config['LayerName'][Layer]['inv_range'] = 256\n",
    "        hls_config['LayerName'][Layer]['exp_range'] = 4\n",
    "        hls_config['LayerName'][Layer]['table_size'] = 1024\n",
    "    if 'dense' in Layer:\n",
    "        hls_config['LayerName'][Layer]['table_t'] = fix_int_precision\n",
    "        hls_config['LayerName'][Layer]['inv_range'] = 256\n",
    "        hls_config['LayerName'][Layer]['table_size'] = 1024\n",
    "        hls_config['LayerName'][Layer]['exp_range'] = 4\n",
    "\n",
    "cfg = hls4ml.converters.create_config(backend='Vivado')\n",
    "cfg['IOType']     = 'io_parallel' # Must set this if using CNNs!\n",
    "cfg['HLSConfig']  = hls_config\n",
    "cfg['KerasModel'] = model\n",
    "cfg['OutputDir']  = dirc\n",
    "cfg['Part'] = 'xcvu13p-fhga2104-2L-e'\n",
    "\n",
    "hls_model = hls4ml.converters.keras_to_hls(cfg)\n",
    "hls_model.compile()\n",
    "hls_model.build(csim=False, synth=True, vsynth=True)"
   ]
  },
  {
   "cell_type": "code",
   "execution_count": null,
   "metadata": {},
   "outputs": [],
   "source": []
  }
 ],
 "metadata": {
  "colab": {
   "collapsed_sections": [],
   "name": "timeseries_transformer_classification",
   "provenance": [],
   "toc_visible": true
  },
  "kernelspec": {
   "display_name": "hls4ml_transformer",
   "language": "python",
   "name": "hls4ml_transformer"
  },
  "language_info": {
   "codemirror_mode": {
    "name": "ipython",
    "version": 3
   },
   "file_extension": ".py",
   "mimetype": "text/x-python",
   "name": "python",
   "nbconvert_exporter": "python",
   "pygments_lexer": "ipython3",
   "version": "3.9.12"
  },
  "vscode": {
   "interpreter": {
    "hash": "9b43f295cc4b9d5d3a590d55b2f702ca7727d2dff70ed9cae74eb77f96a47717"
   }
  }
 },
 "nbformat": 4,
 "nbformat_minor": 1
}
