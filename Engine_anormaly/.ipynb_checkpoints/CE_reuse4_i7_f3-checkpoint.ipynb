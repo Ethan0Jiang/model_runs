{
 "cells": [
  {
   "cell_type": "code",
   "execution_count": null,
   "metadata": {
    "id": "Nt5Cqys4-Q3O"
   },
   "outputs": [],
   "source": [
    "import numpy as np\n",
    "import matplotlib.pyplot as plt\n",
    "import h5py\n",
    "from tensorflow.keras.utils import to_categorical\n",
    "from sklearn.preprocessing import LabelEncoder\n",
    "from tensorflow import keras\n",
    "from tensorflow.keras import layers"
   ]
  },
  {
   "cell_type": "code",
   "execution_count": null,
   "metadata": {},
   "outputs": [],
   "source": [
    "from tensorflow.keras.models import load_model\n",
    "model = load_model('../model_saved/timeseries_l50_v2.h5')"
   ]
  },
  {
   "cell_type": "code",
   "execution_count": null,
   "metadata": {},
   "outputs": [],
   "source": [
    "import hls4ml\n",
    "import os\n",
    "os.environ['PATH'] = '/opt/Xilinx/Vivado/2020.1/bin:' + os.environ['PATH']"
   ]
  },
  {
   "cell_type": "code",
   "execution_count": null,
   "metadata": {
    "scrolled": true
   },
   "outputs": [],
   "source": [
    "i = 3  # fraction bits\n",
    "reuse = 4\n",
    "int_bit = 7\n",
    "\n",
    "\n",
    "precision = 'ap_fixed<{},{}>'.format((int_bit+i), int_bit)\n",
    "fix_int_precision = 'ap_fixed<{},{}>'.format((16+i), 14)\n",
    "dirc = 'runs/CE_run/r{}_{}int_{}frac'.format(reuse, int_bit, i)\n",
    "#First, the baseline model\n",
    "hls_config = hls4ml.utils.config_from_keras_model(model, granularity='name')\n",
    "\n",
    "# Set the precision and reuse factor for the full model\n",
    "hls_config['Model']['Precision'] = precision\n",
    "hls_config['Model']['ReuseFactor'] = reuse\n",
    "hls_config['Model']['Strategy'] = 'Resource'\n",
    "\n",
    "for Layer in hls_config['LayerName'].keys():\n",
    "    hls_config['LayerName'][Layer]['Precision'] = precision\n",
    "    hls_config['LayerName'][Layer]['Strategy'] = 'Resource'\n",
    "    hls_config['LayerName'][Layer]['ReuseFactor'] = 1\n",
    "    hls_config['LayerName'][Layer]['weight'] = precision\n",
    "    hls_config['LayerName'][Layer]['scale'] = precision\n",
    "    hls_config['LayerName'][Layer]['bias'] = precision\n",
    "    hls_config['LayerName'][Layer]['accum_t'] = 'ap_fixed<22,10>'\n",
    "    if 'multi_head_attention' in Layer:\n",
    "        hls_config['LayerName'][Layer]['inv_range'] = 256\n",
    "        hls_config['LayerName'][Layer]['exp_range'] = 4\n",
    "        hls_config['LayerName'][Layer]['table_size'] = 1024\n",
    "    if 'dense' in Layer:\n",
    "        hls_config['LayerName'][Layer]['inv_range'] = 256\n",
    "        hls_config['LayerName'][Layer]['table_size'] = 1024\n",
    "        hls_config['LayerName'][Layer]['exp_range'] = 4\n",
    "\n",
    "cfg = hls4ml.converters.create_config(backend='Vivado')\n",
    "cfg['IOType']     = 'io_parallel' \n",
    "cfg['HLSConfig']  = hls_config\n",
    "cfg['KerasModel'] = model\n",
    "cfg['OutputDir']  = dirc\n",
    "cfg['Part'] = 'xcvu13p-fhga2104-2L-e'\n",
    "\n",
    "hls_model = hls4ml.converters.keras_to_hls(cfg)\n",
    "hls_model.compile()\n",
    "hls_model.build(csim=False, synth=True, vsynth=True)"
   ]
  },
  {
   "cell_type": "code",
   "execution_count": null,
   "metadata": {},
   "outputs": [],
   "source": []
  }
 ],
 "metadata": {
  "colab": {
   "collapsed_sections": [],
   "name": "timeseries_transformer_classification",
   "provenance": [],
   "toc_visible": true
  },
  "kernelspec": {
   "display_name": "Python 3 (ipykernel)",
   "language": "python",
   "name": "python3"
  },
  "language_info": {
   "codemirror_mode": {
    "name": "ipython",
    "version": 3
   },
   "file_extension": ".py",
   "mimetype": "text/x-python",
   "name": "python",
   "nbconvert_exporter": "python",
   "pygments_lexer": "ipython3",
   "version": "3.9.13"
  },
  "vscode": {
   "interpreter": {
    "hash": "9b43f295cc4b9d5d3a590d55b2f702ca7727d2dff70ed9cae74eb77f96a47717"
   }
  }
 },
 "nbformat": 4,
 "nbformat_minor": 1
}
